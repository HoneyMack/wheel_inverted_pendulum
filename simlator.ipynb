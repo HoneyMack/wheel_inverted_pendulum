{
 "cells": [
  {
   "cell_type": "markdown",
   "metadata": {},
   "source": [
    "本文の流れ\n",
    "+ 状態空間モデルの導出\n",
    "    - 車輪型倒立振子の状態方程式の導出\n",
    "    - モータの動特性の導出\n",
    "    - 観測方程式の導出\n",
    "    - 状態空間モデルの導出\n",
    "+ 制御器(LQG)の設計\n",
    "    - システムの可制御性・可観測性の確認\n",
    "    - カルマンフィルタの設計\n",
    "    - 状態フィードバックの設計\n",
    "    - LQG制御器の設計\n",
    "+ シミュレーション\n",
    "    - シミュレーションの設定\n",
    "    - シミュレーションの実行\n",
    "    - シミュレーション結果の表示"
   ]
  },
  {
   "cell_type": "markdown",
   "metadata": {},
   "source": [
    "# 状態空間モデルの導出"
   ]
  },
  {
   "cell_type": "markdown",
   "metadata": {},
   "source": [
    "## 車輪型倒立振子の状態方程式の導出\n",
    "Euler-Lagrangeの運動方程式を用いて、車輪型倒立振子の状態方程式を導出する。\n",
    "\n",
    "今回は、車輪型倒立振子の座標系・パラメータを以下の図のように設定する。\n",
    "また、物理パラメータを以下のように表記する。\n",
    "+ $M_b$：車体の質量\n",
    "+ $M_w$：車輪の質量\n",
    "+ $I_b$：車体の重心周りの慣性モーメント\n",
    "+ $I_w$：車輪の重心周りの慣性モーメント\n",
    "+ $L$：車体の重心から車輪の重心までの距離\n",
    "+ $r$：車輪の半径\n",
    "+ $g$：重力加速度\n",
    "+ $D_{\\phi}$：車軸の粘性抵抗\n",
    "\n",
    "\n",
    "<img src=\"wheel_inverted_pendulum_overview.jpg\">"
   ]
  },
  {
   "cell_type": "markdown",
   "metadata": {},
   "source": [
    "### 運動エネルギーの導出\n",
    "運動エネルギー$T$には、車体の運動エネルギー$T_b$と車輪の運動エネルギー$T_w$がある。\n",
    "\n",
    "さらに、車体の運動エネルギーは車体の重心の並進運動エネルギー$T_{bv}$と車体の回転運動エネルギー$T_{br}$に分けられる。\n",
    "同様に、車輪も車輪の重心の並進運動エネルギー$T_{wv}$と車輪の回転運動エネルギー$T_{wr}$に分けられる。\n",
    "\n",
    "まず、並進運動エネルギーについて考える。\n",
    "\n",
    "車体の重心の座標$(x_b,y_b)$は、\n",
    "$$\n",
    "\\begin{aligned}\n",
    "x_b &= r(\\theta + \\phi) + L \\sin \\theta \\\\\n",
    "y_b &= r + L \\cos \\theta\n",
    "\\end{aligned}\n",
    "$$\n",
    "である。よって、車体の並進運動エネルギー$T_{bv}$は、\n",
    "$$\n",
    "\\begin{aligned}\n",
    "T_{bv} &= \\frac{1}{2} M_b \\left( \\dot{x}_b^2 + \\dot{y}_b^2 \\right) \\\\\n",
    "&= \\frac{1}{2} M_b \\left\\{ \\left( r \\left[\\dot{\\theta}+ \\dot{\\phi}\\right] + L \\dot{\\theta} \\cos \\theta \\right)^2 + \\left(- L \\dot{\\theta} \\sin \\theta \\right)^2 \\right\\}  \\\\\n",
    "&= \\frac{1}{2} M_b \\left\\{ r^2 \\left[\\dot{\\theta}+ \\dot{\\phi}\\right]^2 + 2rL\\left[\\dot{\\theta}+ \\dot{\\phi}\\right]\\dot{\\theta} \\cos \\theta + L^2 \\dot{\\theta}^2 \\right\\}  \\\\\n",
    "&= \\frac{1}{2} M_b \\left\\{ r^2 \\dot{\\phi}^2 + (r^2 + 2 rL \\cos \\theta + L^2) \\dot{\\theta}^2 + 2\\left(r^2 + rL\\cos \\theta \\right)\\dot{\\phi}\\dot{\\theta} \\right\\}  \\\\\n",
    "\\end{aligned}\n",
    "$$\n",
    "となる。\n",
    "\n",
    "また、車輪の重心の座標$(x_w,y_w)$は、\n",
    "$$\n",
    "\\begin{aligned}\n",
    "x_w &= r (\\theta + \\phi) \\\\\n",
    "y_w &= r\n",
    "\\end{aligned}\n",
    "$$\n",
    "である。よって、車輪の並進運動エネルギー$T_{wv}$は、\n",
    "$$\n",
    "\\begin{aligned}\n",
    "T_{wv} &= \\frac{1}{2} M_w \\left( \\dot{x}_w^2 + \\dot{y}_w^2 \\right) \\\\\n",
    "&= \\frac{1}{2} M_w \\left\\{ \\left( r \\left[\\dot{\\theta}+ \\dot{\\phi}\\right] \\right)^2 + 0 \\right\\}  \\\\\n",
    "&= \\frac{1}{2} M_w r^2 \\left(\\dot{\\phi}^2  + 2\\dot{\\phi}\\dot{\\theta} + \\dot{\\theta}^2 \\right)\\\\\n",
    "\\end{aligned}\n",
    "$$\n",
    "となる。\n",
    "\n",
    "次に、回転運動エネルギーについて考える。\n",
    "車体の回転運動エネルギー$T_{br}$は、\n",
    "$$\n",
    "T_{br}= \\frac{1}{2} I_b \\dot{\\theta}^2\n",
    "$$\n",
    "となる。そして、車輪の回転運動エネルギー$T_{wr}$は、\n",
    "$$\n",
    "\\begin{aligned}\n",
    "T_{wr}&= \\frac{1}{2} I_w \\left(\\dot{\\phi} + \\dot{\\theta} \\right)^2 \\\\\n",
    "&= \\frac{1}{2} I_w \\left(\\dot{\\phi}^2 + 2\\dot{\\phi}\\dot{\\theta} + \\dot{\\theta}^2 \\right)\n",
    "\\end{aligned}\n",
    "$$\n",
    "となる。\n",
    "\n",
    "以上より、運動エネルギー$T$は、\n",
    "$$\n",
    "\\begin{aligned}\n",
    "T &= T_{bv} + T_{wv} + T_{br} + T_{wr} \\\\\n",
    "&= \\frac{1}{2} \\left\\{ M_b \\left( r^2 + 2 rL \\cos \\theta + L^2 \\right) + M_w r^2 + I_b + I_w \\right\\} \\dot{\\theta}^2 \\\\\n",
    "&\\quad + \\frac{1}{2} \\left\\{ M_b r^2 + M_w r^2 + I_w \\right\\} \\dot{\\phi}^2 \\\\\n",
    "&\\quad+ \\left\\{ M_b \\left(r^2 + rL\\cos \\theta \\right) + I_w \\right\\} \\dot{\\phi}\\dot{\\theta}\n",
    "\\end{aligned}\n",
    "$$\n",
    "となる。\n"
   ]
  },
  {
   "cell_type": "markdown",
   "metadata": {},
   "source": []
  },
  {
   "cell_type": "markdown",
   "metadata": {},
   "source": [
    "### ポテンシャルエネルギーの導出"
   ]
  },
  {
   "cell_type": "markdown",
   "metadata": {},
   "source": [
    "### Euler-Lagrangeの運動方程式の導出"
   ]
  },
  {
   "cell_type": "markdown",
   "metadata": {},
   "source": [
    "## モーターの動特性の導出\n"
   ]
  },
  {
   "cell_type": "markdown",
   "metadata": {},
   "source": [
    "## 観測方程式の導出"
   ]
  },
  {
   "cell_type": "code",
   "execution_count": null,
   "metadata": {},
   "outputs": [],
   "source": []
  }
 ],
 "metadata": {
  "kernelspec": {
   "display_name": "env",
   "language": "python",
   "name": "python3"
  },
  "language_info": {
   "codemirror_mode": {
    "name": "ipython",
    "version": 3
   },
   "file_extension": ".py",
   "mimetype": "text/x-python",
   "name": "python",
   "nbconvert_exporter": "python",
   "pygments_lexer": "ipython3",
   "version": "3.9.13"
  },
  "orig_nbformat": 4
 },
 "nbformat": 4,
 "nbformat_minor": 2
}
